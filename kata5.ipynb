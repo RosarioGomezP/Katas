{
  "cells": [
    {
      "cell_type": "markdown",
      "metadata": {},
      "source": [
        "# Ejercicio1 - Utilizar operadores aritméticos"
      ]
    },
    {
      "cell_type": "markdown",
      "metadata": {},
      "source": [
        "### Operadores aritméticos en Python\n",
        "Python proporciona operadores aritméticos comunes para que puedas realizar operaciones matemáticas en tu código. Estos incluyen las cuatro operaciones principales de suma, resta, multiplicación y división.\n",
        "\n",
        "Exploremos cómo podemos crear un programa que pueda calcular la distancia entre dos planetas.  Comenzaremos usando dos distancias de planetas: Tierra (149.597.870 km) y Júpiter (778.547.200 km)."
      ]
    },
    {
      "cell_type": "code",
      "execution_count": 2,
      "metadata": {},
      "outputs": [],
      "source": [
        "tierra = 149597870\n",
        "jupiter = 778547200"
      ]
    },
    {
      "cell_type": "markdown",
      "metadata": {},
      "source": [
        "### Realizar la operación\n",
        "\n",
        "Con los valores obtenidos, es el momento de añadir el código para realizar la operación. Restarás el primer planeta del segundo para determinar la distancia en kilómetros. A continuación, puedes convertir la distancia del kilómetro en millas multiplicándola por `0.621`."
      ]
    },
    {
      "cell_type": "code",
      "execution_count": 10,
      "metadata": {},
      "outputs": [
        {
          "name": "stdout",
          "output_type": "stream",
          "text": [
            "628949330\n",
            "390577534\n"
          ]
        }
      ],
      "source": [
        "distancia_km = jupiter - tierra\n",
        "print(distancia_km)\n",
        "\n",
        "distancia_mi = distancia_km * 0.621\n",
        "print(round(distancia_mi))"
      ]
    },
    {
      "cell_type": "markdown",
      "metadata": {},
      "source": [
        "### Prueba tu proyecto\n",
        "\n",
        "Con el código creado, ejecuta el notebook para obtener el resultado. Deberías recibir lo siguiente:\n",
        "\n",
        "```\n",
        "628949330\n",
        "390577534\n",
        "```"
      ]
    },
    {
      "cell_type": "markdown",
      "metadata": {},
      "source": [
        "## Ejercicio 2: convierte cadenas en números y usa valores absolutos\n",
        "\n",
        "### Crear una aplicación para trabajar con números y entrada de usuario\n",
        "Con frecuencia, deberás convertir los valores de cadena en números para realizar correctamente diferentes operaciones o determinar el valor absoluto de un número.\n",
        "\n",
        "Para crear nuestra aplicación, queremos leer la distancia del sol para dos planetas, y luego mostrar la distancia entre los planetas. Haremos esto usando `input` para leer los valores, `int` para convertir a entero y luego `abs` para convertir el resultado en su valor absoluto."
      ]
    },
    {
      "cell_type": "markdown",
      "metadata": {},
      "source": [
        "### Lee los valores\n",
        "Usando `input`, agrega el código para leer la distancia del sol para cada planeta, considerando 2 planetas."
      ]
    },
    {
      "cell_type": "code",
      "execution_count": 12,
      "metadata": {},
      "outputs": [],
      "source": [
        "primer_planeta = input('Introduzca la distancia del sol del primer planeta en kilómetros')\n",
        "segundo_planeta = input('Introduzca la distancia del sol del segundo planeta en kilómetros')"
      ]
    },
    {
      "cell_type": "markdown",
      "metadata": {},
      "source": [
        "### Convertir a número\n",
        "Debido a que `input` devuelve valores de cadena, necesitamos convertirlos en números. Para nuestro ejemplo, usaremos `int`"
      ]
    },
    {
      "cell_type": "code",
      "execution_count": 13,
      "metadata": {},
      "outputs": [],
      "source": [
        "primer_planeta = int(primer_planeta)\n",
        "segundo_planeta = int(segundo_planeta)"
      ]
    },
    {
      "cell_type": "markdown",
      "metadata": {},
      "source": [
        "### Realizar el cálculo y convertir a valor absoluto\n",
        "\n",
        "Con los valores almacenados como números, ahora puedes agregar el código para realizar el cálculo, restando el primer planeta del segundo. Debido a que el segundo planeta podría ser un número mayor, usarás `abs` para convertirlo a un valor absoluto. También agregarás el código para mostrar el resultado en millas multiplicando la distancia del kilómetro por 0.621"
      ]
    },
    {
      "cell_type": "code",
      "execution_count": 14,
      "metadata": {},
      "outputs": [
        {
          "name": "stdout",
          "output_type": "stream",
          "text": [
            "629000000\n",
            "390609000.0\n"
          ]
        }
      ],
      "source": [
        "distance_kilometros = segundo_planeta - primer_planeta\n",
        "print(distance_kilometros)\n",
        "\n",
        "distance_millas = distance_kilometros * 0.621\n",
        "print(abs(distance_millas))"
      ]
    }
  ],
  "metadata": {
    "interpreter": {
      "hash": "502cd6c3b6c9e666d195e1caff9d64ea12bf644e547a4c8fae84812082c54b6f"
    },
    "kernel_info": {
      "name": "conda-env-py37_default-py"
    },
    "kernelspec": {
      "display_name": "py37_default",
      "language": "python",
      "name": "python3"
    },
    "language_info": {
      "codemirror_mode": {
        "name": "ipython",
        "version": 3
      },
      "file_extension": ".py",
      "mimetype": "text/x-python",
      "name": "python",
      "nbconvert_exporter": "python",
      "pygments_lexer": "ipython3",
      "version": "3.10.2"
    },
    "nteract": {
      "version": "nteract-front-end@1.0.0"
    },
    "orig_nbformat": 4
  },
  "nbformat": 4,
  "nbformat_minor": 2
}
